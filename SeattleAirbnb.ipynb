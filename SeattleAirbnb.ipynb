{
  "nbformat": 4,
  "nbformat_minor": 0,
  "metadata": {
    "colab": {
      "provenance": []
    },
    "kernelspec": {
      "name": "python3",
      "display_name": "Python 3"
    },
    "language_info": {
      "name": "python"
    }
  },
  "cells": [
    {
      "cell_type": "markdown",
      "source": [
        "# **Seattle Airbnb Analysis**\n",
        "\n",
        "## **Business Context**\n",
        "\n",
        "The Seattle Airbnb dataset provides an opportunity to understand the dynamics of short-term rental properties in Seattle. By analyzing this data, we aim to uncover insights that can help property owners optimize their listings, improve guest satisfaction, and increase revenue. Additionally, this analysis can provide valuable information to potential investors and policymakers.\n",
        "\n",
        "## **Questions to Analyze**\n",
        "\n",
        "1. What are the predictors of price?\n",
        "2. What are the average prices in different neighborhoods?\n",
        "3. What is the relationship between property type and room type?\n"
      ],
      "metadata": {
        "id": "hnha7Z7dmFF0"
      }
    },
    {
      "cell_type": "markdown",
      "source": [
        "# **Business Understanding**\n",
        "\n",
        "## **Business Objectives**\n",
        "\n",
        "The objective of this analysis is to understand the factors influencing Airbnb rental prices in Seattle. Specifically, we aim to:\n",
        "1. Identify the predictors of price to understand what factors significantly impact the pricing of Airbnb listings.\n",
        "2. Determine the average prices in different neighborhoods to provide insights into how location affects rental prices.\n",
        "3. Analyze the relationship between property type and available rooms to understand how different combinations influence pricing and availability.\n",
        "\n",
        "By addressing these questions, we aim to provide actionable insights for property owners, potential investors, and policymakers to optimize their strategies and improve decision-making in the Airbnb market.\n",
        "\n",
        "# **Data Understanding**\n",
        "\n",
        "We will begin by importing necessary packages, loading the dataset and examining its structure and contents.\n"
      ],
      "metadata": {
        "id": "U8Yqt35amL1O"
      }
    },
    {
      "cell_type": "code",
      "source": [
        "!pip install pycodestyle pycodestyle_magic\n",
        "!pip install flake8\n",
        "%load_ext pycodestyle_magic"
      ],
      "metadata": {
        "id": "nL7FLiZVAuQp"
      },
      "execution_count": null,
      "outputs": []
    },
    {
      "cell_type": "code",
      "execution_count": null,
      "metadata": {
        "id": "D6Ds4ckZTD2u",
        "collapsed": true
      },
      "outputs": [],
      "source": [
        "%%pycodestyle\n",
        "import numpy as np\n",
        "import pandas as pd\n",
        "from sklearn.linear_model import LinearRegression\n",
        "from sklearn.model_selection import train_test_split\n",
        "from sklearn.metrics import r2_score, mean_squared_error\n",
        "from collections import Counter\n",
        "import seaborn as sns\n",
        "import ast\n",
        "import matplotlib.pyplot as plt\n",
        "%matplotlib inline"
      ]
    },
    {
      "cell_type": "code",
      "source": [
        "%%pycodestyle\n",
        "from google.colab import drive\n",
        "\n",
        "# Mount Google Drive\n",
        "drive.mount('/content/drive')"
      ],
      "metadata": {
        "id": "45q7_IqsTq0G"
      },
      "execution_count": null,
      "outputs": []
    },
    {
      "cell_type": "code",
      "source": [
        "%%pycodestyle\n",
        "# Read the CSV file from Google Drive\n",
        "data = pd.read_csv('/content/listings.csv')\n",
        "\n",
        "# Display the first few rows of the dataframe\n",
        "print(data.head())"
      ],
      "metadata": {
        "collapsed": true,
        "id": "AC8QJftzUTyG"
      },
      "execution_count": null,
      "outputs": []
    },
    {
      "cell_type": "markdown",
      "source": [
        "# **Data Preperation**\n",
        "\n",
        "We will select the relevant features and prepare the data for analysis.\n"
      ],
      "metadata": {
        "id": "2Il5etVitEKo"
      }
    },
    {
      "cell_type": "code",
      "source": [
        "%%pycodestyle\n",
        "# Features for the project\n",
        "proj_features = [\n",
        "    'summary', 'space', 'description', 'experiences_offered',\n",
        "    'neighborhood_overview', 'notes', 'transit', 'host_response_time',\n",
        "    'host_response_rate', 'host_acceptance_rate', 'host_listings_count',\n",
        "    'host_total_listings_count', 'host_verifications', 'host_has_profile_pic',\n",
        "    'host_identity_verified', 'street', 'neighbourhood', 'zipcode',\n",
        "    'property_type', 'room_type', 'accommodates', 'bathrooms', 'bedrooms',\n",
        "    'beds', 'bed_type', 'amenities', 'square_feet', 'price',\n",
        "    'security_deposit', 'cleaning_fee', 'guests_included', 'extra_people',\n",
        "    'minimum_nights', 'maximum_nights', 'has_availability', 'availability_30',\n",
        "    'availability_60', 'availability_90', 'availability_365',\n",
        "    'number_of_reviews', 'first_review', 'last_review', 'review_scores_rating',\n",
        "    'review_scores_accuracy', 'review_scores_cleanliness',\n",
        "    'review_scores_checkin', 'review_scores_communication',\n",
        "    'review_scores_location', 'review_scores_value', 'instant_bookable',\n",
        "    'cancellation_policy', 'calculated_host_listings_count',\n",
        "    'reviews_per_month'\n",
        "]\n",
        "\n",
        "# Select the relevant features\n",
        "df = data[proj_features]\n",
        "\n",
        "# Display the shape of the dataframe\n",
        "print(df.shape)"
      ],
      "metadata": {
        "id": "teoWmp2iluqY"
      },
      "execution_count": null,
      "outputs": []
    },
    {
      "cell_type": "markdown",
      "source": [
        "# **Assessing Data Quality**\n",
        "\n",
        "To identify the predictors of price, we will create a new dataframe with selected features, clean and encode the data, develop a linear regression model, and evaluate its performance.\n",
        "\n"
      ],
      "metadata": {
        "id": "S0E2QFERtdhs"
      }
    },
    {
      "cell_type": "code",
      "source": [
        "%%pycodestyle\n",
        "# Remove the columns with more than 50% missing values\n",
        "df = df[df.columns[df.isnull().sum() < .5*df.shape[0]]]\n",
        "\n",
        "# Remove rows with missing 'neighbourhood'\n",
        "df = df.dropna(subset=['neighbourhood'])\n",
        "\n",
        "# Display the shape of the dataframe after cleaning\n",
        "df.shape\n",
        "\n",
        "# Prepare the categorical and numerical columns\n",
        "df.info()\n",
        "\n",
        "# Identify categorical and numerical columns\n",
        "cat_vars = list(df.select_dtypes(include='object'))\n",
        "num_vars = list(df.select_dtypes(include=['float64', 'int64']))\n",
        "\n",
        "# Print the numerical variables\n",
        "print(num_vars)\n",
        "\n",
        "# Remove the rows with missing numeric values\n",
        "df = df.dropna(subset=num_vars)"
      ],
      "metadata": {
        "id": "tZRyRG0eqBvf"
      },
      "execution_count": null,
      "outputs": []
    },
    {
      "cell_type": "markdown",
      "source": [
        "There are many columns that are considered as objects, yet some of them should be treated as integer or float (especially those price columns). This is a type change problem that I will handle later. For now, I would like to know about the number of missing values and the number of unique inputs in each column.\n"
      ],
      "metadata": {
        "id": "cSxqWCi-AVyD"
      }
    },
    {
      "cell_type": "markdown",
      "source": [
        "# **Creating the 'num_amenities' Column**\n",
        "\n",
        "We will create a new column named num_amenities to show the number of amenities available at each listing. This column will help us quantify the number of amenities, which could be a significant factor in determining the rental price."
      ],
      "metadata": {
        "id": "5RIbAhnI6G_4"
      }
    },
    {
      "cell_type": "code",
      "source": [
        "%%pycodestyle\n",
        "def count_amenities(amenities_str):\n",
        "    \"\"\"\n",
        "    Count the number of amenities in the given string.\n",
        "\n",
        "    This function takes a string of amenities, removes the curly braces,\n",
        "    splits the string by commas, and returns the count of amenities.\n",
        "\n",
        "    Parameters:\n",
        "    amenities_str (str): A string containing a list of amenities enclosed\n",
        "    in curly braces.\n",
        "\n",
        "    Returns:\n",
        "    int: The number of amenities.\n",
        "    \"\"\"\n",
        "    # Remove curly braces and split by comma\n",
        "    amenities_list = amenities_str.strip('{}').split(',')\n",
        "    # Find the number of amenities\n",
        "    return len(amenities_list)\n",
        "\n",
        "\n",
        "# Create a column with the number of amenities\n",
        "df['num_amenities'] = df['amenities'].apply(count_amenities)"
      ],
      "metadata": {
        "id": "6AggACAbvx-H"
      },
      "execution_count": null,
      "outputs": []
    },
    {
      "cell_type": "markdown",
      "source": [
        "# **Data Analysis**\n",
        "\n",
        "\n",
        "\n",
        "## **Question 1: What are the predictors of price?**\n",
        "We will identify the predictors of price using a linear regression model.To understand the relationships between different numerical features in the dataset, we will compute the correlation matrix and visualize it using a heatmap. This will help us identify which features are strongly correlated with each other and with the target variable, price.\n",
        "The correlation matrix provides a numerical summary of relationships between numerical features, with coefficients ranging from -1 to 1. A coefficient close to 1 indicates a strong positive correlation, -1 indicates a strong negative correlation, and 0 indicates no correlation. The heatmap visualizes these correlations using colors: dark colors represent strong positive correlations, light colors represent strong negative correlations, and neutral colors represent weak or no correlations. This visualization helps us quickly identify significant feature relationships and guide feature selection for predictive models."
      ],
      "metadata": {
        "id": "TbO86yfyDS_L"
      }
    },
    {
      "cell_type": "code",
      "source": [
        "%%pycodestyle\n",
        "# Clean the 'price' column\n",
        "df['price'] = df['price'].replace(r'[\\$,]', '', regex=True).astype(float)\n",
        "\n",
        "# Compute the correlation matrix\n",
        "corr_matrix = df[num_vars].corr()\n",
        "\n",
        "# Plot the heatmap\n",
        "plt.figure(figsize=(15, 12))\n",
        "heatmap = sns.heatmap(corr_matrix, annot=True, fmt='.2f', cmap='coolwarm',\n",
        "                      linewidths=0.5)\n",
        "plt.title('Correlation Heatmap of Numerical Features')\n",
        "plt.show()"
      ],
      "metadata": {
        "id": "L0L8gZVvzu2m"
      },
      "execution_count": null,
      "outputs": []
    },
    {
      "cell_type": "markdown",
      "source": [
        "# **Model Implementation and Evaluation**\n",
        "\n",
        "We will develop a Linear Regression model to identify the key features that determine the price. This involves creating a new dataset with selected features, cleaning the data, encoding categorical values, developing and evaluating the model, and selecting the most significant features."
      ],
      "metadata": {
        "id": "oE_G7-f80U3S"
      }
    },
    {
      "cell_type": "code",
      "source": [
        "%%pycodestyle\n",
        "# Create a new dataframe including the features to predict the price\n",
        "prc_df = df[['accommodates', 'bathrooms', 'bedrooms', 'beds',\n",
        "             'guests_included', 'num_amenities', 'zipcode', 'bed_type',\n",
        "             'price']]\n",
        "\n",
        "# Group zipcodes with fewer than 100 members into 'Other' category\n",
        "zipcode_counts = prc_df['zipcode'].value_counts()\n",
        "zipcodes_to_replace = zipcode_counts[zipcode_counts < 100].index\n",
        "prc_df['zipcode'] = prc_df['zipcode'].apply(\n",
        "    lambda x: 'Other' if x in zipcodes_to_replace else x\n",
        ")\n",
        "\n",
        "# Drop the rows with missing zipcodes\n",
        "prc_df.dropna(subset=['zipcode'], inplace=True)\n",
        "\n",
        "# Encode the categorical variables\n",
        "prc_df_encoded = pd.get_dummies(prc_df, columns=['zipcode', 'bed_type'],\n",
        "                                drop_first=True)\n",
        "\n",
        "# Create the response and feature datasets\n",
        "X = prc_df_encoded.drop(['price'], axis=1)\n",
        "y = prc_df_encoded['price']\n",
        "\n",
        "# Bin the target variable\n",
        "y_binned = pd.qcut(y, q=10, labels=False)\n",
        "\n",
        "# Split the data into training and testing sets with stratified sampling\n",
        "X_train, X_test, y_train, y_test = train_test_split(X, y, test_size=0.3,\n",
        "                                                    random_state=42,\n",
        "                                                    stratify=y_binned)\n",
        "\n",
        "# Train the linear model\n",
        "model = LinearRegression()\n",
        "model.fit(X_train, y_train)\n",
        "\n",
        "# Predict using the test set\n",
        "y_pred = model.predict(X_test)\n",
        "\n",
        "# Evaluate the model\n",
        "r2 = r2_score(y_test, y_pred)\n",
        "mse = mean_squared_error(y_test, y_pred)\n",
        "\n",
        "print(f'R^2 Score: {r2}')\n",
        "print(f'Mean Squared Error: {mse}')\n",
        "\n",
        "# Retrieve and display coefficients\n",
        "coefficients = pd.DataFrame(model.coef_, X.columns, columns=['Coefficient'])\n",
        "print(coefficients.sort_values(by='Coefficient', ascending=False))\n",
        "\n",
        "# Plot coefficients\n",
        "plt.figure(figsize=(10, 8))\n",
        "coefficients.sort_values(by='Coefficient', ascending=True).plot(\n",
        "    kind='barh', legend=False\n",
        ")\n",
        "plt.title('Feature Importance by Coefficient')\n",
        "plt.xlabel('Coefficient Value')\n",
        "plt.ylabel('Feature')\n",
        "plt.show()"
      ],
      "metadata": {
        "id": "jxdEgdgE4sZT"
      },
      "execution_count": null,
      "outputs": []
    },
    {
      "cell_type": "markdown",
      "source": [
        "# **Summary of the findings:**\n",
        "##Coefficient Interpretation\n",
        "\n",
        "The coefficients obtained from the linear regression model provide valuable insights into how different features impact the price of Airbnb listings. These insights can be categorized into two main groups: positive coefficients and negative coefficients.\n",
        "\n",
        "### Positive Coefficients\n",
        "\n",
        "Features with positive coefficients are associated with an increase in the price of Airbnb listings. The magnitude of these coefficients indicates the strength of their impact on the price. Key features with positive coefficients include:\n",
        "\n",
        "1. **Bedrooms (31.745141)**:\n",
        "   - Listings with more bedrooms tend to have significantly higher prices. This is logical as properties with more bedrooms can accommodate larger groups and offer more space and privacy.\n",
        "\n",
        "2. **Bathrooms (21.402561)**:\n",
        "   - An increase in the number of bathrooms is positively correlated with higher prices. More bathrooms improve convenience and comfort, especially for larger groups or families.\n",
        "\n",
        "3. **Bed Type - Real Bed (25.249570)**:\n",
        "   - Listings that offer a real bed are priced higher than those without. Real beds are generally more comfortable and preferred by guests, thus commanding higher prices.\n",
        "\n",
        "4. **Bed Type - Pull-out Sofa (19.884977) and Futon (16.739441)**:\n",
        "   - Listings with pull-out sofas and futons also command higher prices. These types of beds provide additional flexibility in accommodating guests.\n",
        "\n",
        "5. **Zipcodes 98109, 98121, 98119**:\n",
        "   - Properties located in these zipcodes are associated with higher prices, suggesting that these are desirable locations.\n",
        "\n",
        "6. **Accommodates (12.323478)**:\n",
        "   - The number of guests a property can accommodate is positively correlated with price. Larger properties that can host more guests naturally charge higher rates.\n",
        "\n",
        "7. **Guests Included (5.248445)**:\n",
        "    - The number of guests included in the base price also positively impacts the price. Listings that include more guests in the base price can justify higher pricing.\n",
        "\n",
        "8. **Beds (0.505968)**:\n",
        "    - The number of beds, although having a smaller impact, still positively correlates with the price. More beds can mean more flexibility in guest accommodation.\n",
        "\n",
        "9. **Number of Amenities (0.339216)**:\n",
        "    - A higher number of amenities slightly increases the price. This reflects that more amenities add value to the listing, making it more attractive to potential guests.\n",
        "\n",
        "### Negative Coefficients\n",
        "\n",
        "Features with negative coefficients are associated with a decrease in the price of Airbnb listings. The magnitude of these coefficients indicates the strength of their impact on reducing the price. Key features with negative coefficients include:\n",
        "\n",
        "1. **Bed Type - Couch (-16.908636)**:\n",
        "   - Listings that offer a couch as a bed type are associated with lower prices. Couches are likely seen as less comfortable and desirable compared to other bed types.\n",
        "\n",
        "2. **Other Zipcodes**:\n",
        "   - Several other zipcodes (98102, 98122, 98112, 98107, etc.) are associated with lower prices, indicating that properties in these areas are less in demand compared to those in higher-priced zipcodes.\n",
        "\n",
        "### Overall Insights\n",
        "\n",
        "- **Desirable Features**: More bedrooms, bathrooms, real beds, and specific zipcodes (98109, 98121, 98119) significantly increase the price of Airbnb listings.\n",
        "- **Less Desirable Features**: Certain zipcodes (98102, 98122, 98112, etc.) and couch bed types are associated with lower prices.\n",
        "- **Value-Adding Features**: While the number of beds and amenities positively impact the price, their effect is smaller compared to major factors like bedrooms and location.\n",
        "\n",
        "These insights can help property owners and managers understand what features to highlight or improve in their listings to optimize pricing. It also aids in market analysis and strategic decisions regarding property investments and enhancements.\n"
      ],
      "metadata": {
        "id": "xNFmE6qMCfc0"
      }
    },
    {
      "cell_type": "markdown",
      "source": [
        "# **Question 2: What are the average prices in different neighborhoods?**\n",
        "\n",
        "We will calculate and visualize the average prices in different neighborhoods."
      ],
      "metadata": {
        "id": "rh0y99WFEHDB"
      }
    },
    {
      "cell_type": "code",
      "source": [
        "%%pycodestyle\n",
        "# Calculate average price by neighborhood\n",
        "zipcode_price_df = prc_df.groupby('zipcode')['price'].mean().reset_index()\n",
        "\n",
        "# Sort by average price\n",
        "zipcode_price_df = zipcode_price_df.sort_values(by='price', ascending=False)\n",
        "\n",
        "# Plot the results\n",
        "plt.figure(figsize=(14, 8))\n",
        "sns.barplot(data=zipcode_price_df, x='price', y='zipcode', palette='viridis')\n",
        "plt.title('Average Price by Neighborhood')\n",
        "plt.xlabel('Average Price')\n",
        "plt.ylabel('Neighborhood')\n",
        "plt.show()\n",
        "\n",
        "# Select the 5 most expensive and 5 cheapest zip codes\n",
        "top_5_expensive = zipcode_price_df.head(5)\n",
        "top_5_cheapest = zipcode_price_df.tail(5)\n",
        "\n",
        "# Combine the two dataframes\n",
        "top_bottom_zipcodes = pd.concat([top_5_expensive, top_5_cheapest])\n",
        "\n",
        "# Plot the results\n",
        "plt.figure(figsize=(12, 6))\n",
        "sns.barplot(data=top_bottom_zipcodes, x='price', y='zipcode',\n",
        "            palette='coolwarm')\n",
        "plt.title('5 Most Expensive and 5 Cheapest Zip Codes')\n",
        "plt.xlabel('Average Price')\n",
        "plt.ylabel('Zip Code')\n",
        "plt.show()"
      ],
      "metadata": {
        "id": "4-lZ38cDEyL6"
      },
      "execution_count": null,
      "outputs": []
    },
    {
      "cell_type": "markdown",
      "source": [
        "# **Question 3: What is the relationship between property type and room type?**\n",
        "\n",
        "We will analyze the relationship between property type and available rooms."
      ],
      "metadata": {
        "id": "b3bodGxQGgtF"
      }
    },
    {
      "cell_type": "code",
      "source": [
        "%%pycodestyle\n",
        "# Create a cross-tabulation of property type and room type\n",
        "property_room_crosstab = pd.crosstab(df['property_type'], df['room_type'])\n",
        "\n",
        "# Plot the heatmap\n",
        "plt.figure(figsize=(14, 10))\n",
        "sns.heatmap(property_room_crosstab, annot=True, fmt='d', cmap='viridis',\n",
        "            linewidths=.5)\n",
        "plt.title('Relationship between Property Type and Room Type')\n",
        "plt.xlabel('Room Type')\n",
        "plt.ylabel('Property Type')\n",
        "plt.show()\n"
      ],
      "metadata": {
        "id": "q5nkF9XEIoQR"
      },
      "execution_count": null,
      "outputs": []
    },
    {
      "cell_type": "markdown",
      "source": [
        "# **Summary of the Crosstab: Relationship between Property Type and Room Type**\n",
        "\n",
        "The heatmap visualization illustrates the distribution of room types across different property types in Airbnb listings. Key insights include:\n",
        "\n",
        "1. **Apartments**:\n",
        "   - **Entire home/apt**: The most common combination with 1080 listings, indicating a strong preference for renting out entire apartments.\n",
        "   - **Private room**: Less common with 163 listings.\n",
        "   - **Shared room**: Rare with only 31 listings.\n",
        "\n",
        "2. **Houses**:\n",
        "   - **Entire home/apt**: A significant number of listings (694), showing that many houses are rented out entirely.\n",
        "   - **Private room**: Also popular with 580 listings, suggesting many hosts offer rooms within their homes.\n",
        "   - **Shared room**: Less common with 41 listings.\n",
        "\n",
        "3. **Bed & Breakfast**:\n",
        "   - **Private room**: Predominantly listed as private rooms (23 listings), which is typical for this property type.\n",
        "   - **Entire home/apt**: Rare with only 2 listings.\n",
        "\n",
        "4. **Condos**:\n",
        "   - **Entire home/apt**: Most common with 48 listings.\n",
        "   - **Private room**: Less frequent with 14 listings.\n",
        "   - **Shared room**: Very rare with just 1 listing.\n",
        "\n",
        "5. **Lofts and Townhouses**:\n",
        "   - **Lofts**: Primarily listed as entire homes (23 listings) with a few private rooms (5 listings).\n",
        "   - **Townhouses**: Balanced distribution between entire homes (30 listings) and private rooms (39 listings), with very few shared rooms (2 listings).\n",
        "\n",
        "6. **Specialty Properties**:\n",
        "   - **Bungalows, Cabins, Camper/RVs, Chalets, Tents, Treehouses, Yurts**: These have few listings overall but offer unique accommodations mostly as entire homes or private rooms.\n",
        "   - **Dorms**: Exclusively listed as shared rooms (2 listings).\n",
        "\n",
        "### Overall Observations:\n",
        "\n",
        "1. **Dominance of Entire Home/Apt Listings**:\n",
        "   - Entire homes/apartments are the most prevalent room type across various property types, especially for apartments and houses, indicating a preference among hosts to rent out entire properties.\n",
        "\n",
        "2. **Significance of Private Rooms**:\n",
        "   - Private rooms are also a popular choice, particularly in houses and townhouses, showing that many hosts are willing to share their living spaces.\n",
        "\n",
        "3. **Limited Shared Rooms**:\n",
        "   - Shared rooms are the least common across almost all property types, suggesting they are less preferred by both hosts and guests.\n",
        "\n",
        "4. **Niche Market for Specialty Properties**:\n",
        "   - Properties like Bed & Breakfasts, Boats, Bungalows, and Treehouses have fewer listings but cater to specific guest preferences looking for unique stays.\n",
        "\n",
        "This analysis provides a clear understanding of how different property types are utilized in Airbnb listings, highlighting host preferences and potential guest demands for various accommodation types."
      ],
      "metadata": {
        "id": "EHPNIEV7Law9"
      }
    },
    {
      "cell_type": "markdown",
      "source": [
        "# **Conclusion**\n",
        "\n",
        "This analysis provided insights into the factors influencing Airbnb rental prices in Seattle, the average prices in different neighborhoods, and the relationship between property type and room type. These insights can help property owners optimize their listings and make informed decisions regarding their rental properties."
      ],
      "metadata": {
        "id": "qSgJFdk33Tk6"
      }
    }
  ]
}